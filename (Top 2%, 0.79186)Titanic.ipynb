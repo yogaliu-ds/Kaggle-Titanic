{
  "nbformat": 4,
  "nbformat_minor": 0,
  "metadata": {
    "colab": {
      "name": "Titanic_modifying.ipynb",
      "provenance": [],
      "collapsed_sections": [
        "BoVrOrNpKiTR"
      ],
      "mount_file_id": "1h-89ztFGdg3cIV5JPCaScwSyLj6CuhJ6",
      "authorship_tag": "ABX9TyNwgDfO1C6G3kYbMFVZnuSY",
      "include_colab_link": true
    },
    "kernelspec": {
      "name": "python3",
      "display_name": "Python 3"
    },
    "language_info": {
      "name": "python"
    }
  },
  "cells": [
    {
      "cell_type": "markdown",
      "metadata": {
        "id": "view-in-github",
        "colab_type": "text"
      },
      "source": [
        "<a href=\"https://colab.research.google.com/github/yogaliu-ds/Titanic/blob/main/Titanic_modifying.ipynb\" target=\"_parent\"><img src=\"https://colab.research.google.com/assets/colab-badge.svg\" alt=\"Open In Colab\"/></a>"
      ]
    },
    {
      "cell_type": "markdown",
      "metadata": {
        "id": "yoorlmkC3WOx"
      },
      "source": [
        "Titanic Competition\n"
      ]
    },
    {
      "cell_type": "markdown",
      "metadata": {
        "id": "TKCQzLE36TPq"
      },
      "source": [
        "# 1. Import module and data"
      ]
    },
    {
      "cell_type": "code",
      "metadata": {
        "id": "Z98P2eBX3PLV"
      },
      "source": [
        "import pandas as pd\n",
        "import numpy as np\n",
        "from sklearn.linear_model import LogisticRegression\n",
        "from sklearn.model_selection import train_test_split\n",
        "from sklearn.metrics import accuracy_score\n",
        "from sklearn.model_selection import cross_val_score\n",
        "from sklearn.preprocessing import StandardScaler, Normalizer\n",
        "from sklearn.pipeline import make_pipeline\n",
        "from sklearn.ensemble import RandomForestClassifier\n",
        "\n",
        "from sklearn.model_selection import GridSearchCV\n",
        "from sklearn.ensemble import BaggingClassifier\n",
        "\n",
        "\n",
        "import matplotlib.pyplot as plt\n",
        "import seaborn as sns \n",
        "\n",
        "\n",
        "train = pd.read_csv('/content/drive/MyDrive/Kaggle/Titanic/train.csv')\n",
        "test = pd.read_csv('/content/drive/MyDrive/Kaggle/Titanic/test.csv')"
      ],
      "execution_count": 26,
      "outputs": []
    },
    {
      "cell_type": "markdown",
      "metadata": {
        "id": "BoVrOrNpKiTR"
      },
      "source": [
        "# 2. Getting to know your data"
      ]
    },
    {
      "cell_type": "code",
      "metadata": {
        "id": "86YKDodoaaN6"
      },
      "source": [
        "# plot style prettier\n",
        "plt.style.use('seaborn')"
      ],
      "execution_count": null,
      "outputs": []
    },
    {
      "cell_type": "code",
      "metadata": {
        "colab": {
          "base_uri": "https://localhost:8080/"
        },
        "id": "oHj6jzWnk9uX",
        "outputId": "e7309079-8b80-40da-ca3d-89309bbebd35"
      },
      "source": [
        "#  How many columns\n",
        "print(train.columns)"
      ],
      "execution_count": null,
      "outputs": [
        {
          "output_type": "stream",
          "name": "stdout",
          "text": [
            "Index(['PassengerId', 'Survived', 'Pclass', 'Name', 'Sex', 'Age', 'SibSp',\n",
            "       'Parch', 'Ticket', 'Fare', 'Cabin', 'Embarked'],\n",
            "      dtype='object')\n"
          ]
        }
      ]
    },
    {
      "cell_type": "code",
      "metadata": {
        "id": "lQ8LHplYNwnA"
      },
      "source": [
        "# Drop unuseful columns\n",
        "df = train\n",
        "df = df.drop(columns=['PassengerId'])"
      ],
      "execution_count": null,
      "outputs": []
    },
    {
      "cell_type": "code",
      "metadata": {
        "colab": {
          "base_uri": "https://localhost:8080/"
        },
        "id": "SF49GuJuw7lC",
        "outputId": "97770c1b-f59c-4dd6-fdba-b4f6cddb1c90"
      },
      "source": [
        "# Let's see what is 'Ticket' \n",
        "print(len(df.Ticket.unique()))\n",
        "\n",
        "# 681 different value: Ticket doesn't matter, we drop it\n",
        "df = df.drop(columns = ['Ticket'])"
      ],
      "execution_count": null,
      "outputs": [
        {
          "output_type": "stream",
          "name": "stdout",
          "text": [
            "681\n"
          ]
        }
      ]
    },
    {
      "cell_type": "code",
      "metadata": {
        "colab": {
          "base_uri": "https://localhost:8080/",
          "height": 361
        },
        "id": "aIFO8N-auFRW",
        "outputId": "9c8e6b91-99ef-469b-a5d1-9932c1f93e5a"
      },
      "source": [
        "# Pcalss & Sex\n",
        "pclass_age = df.groupby('Pclass')['Sex'].value_counts()\n",
        "sns.countplot(data=df, x='Pclass', hue='Sex')\n",
        "plt.show()"
      ],
      "execution_count": null,
      "outputs": [
        {
          "output_type": "display_data",
          "data": {
            "image/png": "[encoded data removed]",
            "text/plain": [
              "<Figure size 576x396 with 1 Axes>"
            ]
          },
          "metadata": {}
        }
      ]
    },
    {
      "cell_type": "code",
      "metadata": {
        "id": "V8zZK1guMqVF",
        "colab": {
          "base_uri": "https://localhost:8080/",
          "height": 361
        },
        "outputId": "b892ad80-9279-471c-e482-5c91849cdf39"
      },
      "source": [
        "# Survival rate\n",
        "sns.barplot(x='Pclass', y='Survived', data=df, hue='Sex')\n",
        "plt.show()"
      ],
      "execution_count": null,
      "outputs": [
        {
          "output_type": "display_data",
          "data": {
            "image/png": "[encoded data removed]",
            "text/plain": [
              "<Figure size 576x396 with 1 Axes>"
            ]
          },
          "metadata": {}
        }
      ]
    },
    {
      "cell_type": "code",
      "metadata": {
        "colab": {
          "base_uri": "https://localhost:8080/",
          "height": 347
        },
        "id": "kx23fgqbY3Pm",
        "outputId": "d1fc4140-eeab-44c9-a28b-176653805bbd"
      },
      "source": [
        "# Age\n",
        "plt.hist(df['Age'])\n",
        "plt.show()"
      ],
      "execution_count": null,
      "outputs": [
        {
          "output_type": "display_data",
          "data": {
            "image/png": "[encoded data removed]",
            "text/plain": [
              "<Figure size 576x396 with 1 Axes>"
            ]
          },
          "metadata": {}
        }
      ]
    },
    {
      "cell_type": "code",
      "metadata": {
        "id": "eMPVgyBZpgho",
        "colab": {
          "base_uri": "https://localhost:8080/",
          "height": 379
        },
        "outputId": "f7f774ec-4c15-43b2-dc69-4f2e69b55e7c"
      },
      "source": [
        "# Age & Survived\n",
        "sns.histplot(data=df, x='Age', y='Survived', binwidth=10)"
      ],
      "execution_count": null,
      "outputs": [
        {
          "output_type": "execute_result",
          "data": {
            "text/plain": [
              "<matplotlib.axes._subplots.AxesSubplot at 0x7f772b4c1ad0>"
            ]
          },
          "metadata": {},
          "execution_count": 221
        },
        {
          "output_type": "display_data",
          "data": {
            "image/png": "[encoded data removed]",
            "text/plain": [
              "<Figure size 576x396 with 1 Axes>"
            ]
          },
          "metadata": {}
        }
      ]
    },
    {
      "cell_type": "code",
      "metadata": {
        "colab": {
          "base_uri": "https://localhost:8080/",
          "height": 345
        },
        "id": "LB4QkKqs-Txe",
        "outputId": "22f6d7c5-b30f-4de2-9cd9-c811505664e7"
      },
      "source": [
        "# Embarked\n",
        "k = df.Embarked.value_counts()\n",
        "plt.pie(x=k, labels=k.index, explode=[0.1,0.1,0.1], autopct='%1.2f%%')\n",
        "plt.title('Embarked Ratio')\n",
        "plt.show()"
      ],
      "execution_count": null,
      "outputs": [
        {
          "output_type": "display_data",
          "data": {
            "image/png": "[encoded data removed]",
            "text/plain": [
              "<Figure size 576x396 with 1 Axes>"
            ]
          },
          "metadata": {}
        }
      ]
    },
    {
      "cell_type": "code",
      "metadata": {
        "colab": {
          "base_uri": "https://localhost:8080/"
        },
        "id": "dVv8veG8MXNK",
        "outputId": "21da1d7c-6192-45b6-bd61-bd50f371ea26"
      },
      "source": [
        "# Embarked and Pcalss\n",
        "k = df.groupby('Embarked')['Pclass'].value_counts()\n",
        "print(k)\n"
      ],
      "execution_count": null,
      "outputs": [
        {
          "output_type": "stream",
          "name": "stdout",
          "text": [
            "Embarked  Pclass\n",
            "C         1          85\n",
            "          3          66\n",
            "          2          17\n",
            "Q         3          72\n",
            "          2           3\n",
            "          1           2\n",
            "S         3         353\n",
            "          2         164\n",
            "          1         127\n",
            "Name: Pclass, dtype: int64\n"
          ]
        }
      ]
    },
    {
      "cell_type": "code",
      "metadata": {
        "colab": {
          "base_uri": "https://localhost:8080/",
          "height": 351
        },
        "id": "6QsADWz5UO_e",
        "outputId": "71ffacf9-7a15-45ce-90b7-bac8f799dc1a"
      },
      "source": [
        "sns.heatmap(df.corr(), annot=True)\n",
        "plt.show()"
      ],
      "execution_count": null,
      "outputs": [
        {
          "output_type": "display_data",
          "data": {
            "image/png": "[encoded data removed]",
            "text/plain": [
              "<Figure size 576x396 with 2 Axes>"
            ]
          },
          "metadata": {}
        }
      ]
    },
    {
      "cell_type": "code",
      "metadata": {
        "colab": {
          "base_uri": "https://localhost:8080/",
          "height": 347
        },
        "id": "jKRGbaDgYmQz",
        "outputId": "1d24747a-22e9-43ee-f9f5-f3cbf482f678"
      },
      "source": [
        "# Fare\n",
        "plt.hist(df['Fare'])\n",
        "plt.show()"
      ],
      "execution_count": null,
      "outputs": [
        {
          "output_type": "display_data",
          "data": {
            "image/png": "[encoded data removed]",
            "text/plain": [
              "<Figure size 576x396 with 1 Axes>"
            ]
          },
          "metadata": {}
        }
      ]
    },
    {
      "cell_type": "code",
      "metadata": {
        "colab": {
          "base_uri": "https://localhost:8080/"
        },
        "id": "rwH_Ge_FbVLB",
        "outputId": "b4c1c67b-6a9e-4e0e-f986-5f84769787c3"
      },
      "source": [
        "# Cabin\n",
        "with_cabin = df[df['Cabin'].isna()==False]\n",
        "without_cabin = df[df['Cabin'].isna()==True]\n",
        "\n",
        "#find mean of each group\n",
        "with_cabin_mean = with_cabin['Survived'].mean()\n",
        "without_cabin_mean = without_cabin['Survived'].mean()\n",
        "\n",
        "print(with_cabin_mean)\n",
        "print(without_cabin_mean)\n"
      ],
      "execution_count": null,
      "outputs": [
        {
          "output_type": "stream",
          "name": "stdout",
          "text": [
            "0.6666666666666666\n",
            "0.29985443959243085\n"
          ]
        }
      ]
    },
    {
      "cell_type": "code",
      "metadata": {
        "colab": {
          "base_uri": "https://localhost:8080/",
          "height": 379
        },
        "id": "vC5W-WSIfQnl",
        "outputId": "f588c750-71f6-43ec-be7d-3cf6b5ef8d5c"
      },
      "source": [
        "# Name : Some people are rare\n",
        "df['Name'] = df['Name'].replace(['Rev', 'Don', 'Dr', 'Master'], 'Rare', regex=True)\n",
        "df.Name = df.Name.astype(str).str.contains('Rare')\n",
        "\n",
        "df.Name = df.Name.replace({True:1, False:0})\n",
        "\n",
        "k = df.groupby('Name')['Survived'].mean()\n",
        "sns.barplot(x=k.index, y=k)\n",
        "plt.show"
      ],
      "execution_count": null,
      "outputs": [
        {
          "output_type": "execute_result",
          "data": {
            "text/plain": [
              "<function matplotlib.pyplot.show>"
            ]
          },
          "metadata": {},
          "execution_count": 227
        },
        {
          "output_type": "display_data",
          "data": {
            "image/png": "[encoded data removed]",
            "text/plain": [
              "<Figure size 576x396 with 1 Axes>"
            ]
          },
          "metadata": {}
        }
      ]
    },
    {
      "cell_type": "markdown",
      "metadata": {
        "id": "A8S0tBIVmkAz"
      },
      "source": [
        "# 3. Data Preprocessing"
      ]
    },
    {
      "cell_type": "code",
      "metadata": {
        "colab": {
          "base_uri": "https://localhost:8080/"
        },
        "id": "poa-gJTFfRQB",
        "outputId": "01e68c79-39a3-425d-dac6-5547cf61ec53"
      },
      "source": [
        "# Age Pclass : For latter replacement\n",
        "k = train.groupby('Pclass')['Age'].median()\n",
        "print(k)"
      ],
      "execution_count": 27,
      "outputs": [
        {
          "output_type": "stream",
          "name": "stdout",
          "text": [
            "Pclass\n",
            "1    37.0\n",
            "2    29.0\n",
            "3    24.0\n",
            "Name: Age, dtype: float64\n"
          ]
        }
      ]
    },
    {
      "cell_type": "code",
      "metadata": {
        "id": "6MUuRXIDmfxQ"
      },
      "source": [
        "# (Pclass) to category\n",
        "train.Pclass = train.Pclass.astype('category')\n",
        "\n",
        "# (Embarked) Drop rows with NaN\n",
        "train.dropna(subset=['Embarked'], inplace=True)\n",
        "\n",
        "# (Age) fill in sample mean\n",
        "def Age(cols):\n",
        "    Age=cols[0]\n",
        "    Pclass=cols[1]\n",
        "    if pd.isnull(Age):\n",
        "        if Pclass==1:\n",
        "            return 38.23\n",
        "        elif Pclass==2:\n",
        "            return 29.87\n",
        "        elif Pclass==3:\n",
        "            return 25.14\n",
        "    else:\n",
        "        return Age\n",
        "    \n",
        "\n",
        "train[\"Age\"]=train[[\"Age\",\"Pclass\"]].apply(Age,axis=1)\n",
        "\n",
        "\n",
        "\n",
        "# (Cabin) change boolean into categorical\n",
        "train.Cabin = train.Cabin.isna()\n",
        "train.Cabin = train.Cabin.replace({True:1, False:0})\n",
        "\n"
      ],
      "execution_count": 28,
      "outputs": []
    },
    {
      "cell_type": "code",
      "metadata": {
        "id": "dQ6qrL7qT_x8",
        "colab": {
          "base_uri": "https://localhost:8080/"
        },
        "outputId": "b4de948f-c1d8-4e15-ba7e-496776a63fef"
      },
      "source": [
        "# Name : Some people are rare\n",
        "train['Name'] = train['Name'].replace(['Rev', 'Don', 'Dr', 'Master'], 'Rare', regex=True)\n",
        "train.Name = train.Name.astype(str).str.contains('Rare')\n",
        "\n",
        "train.Name = train.Name.replace({True:1, False:0})\n",
        "\n",
        "train.groupby('Name')['Survived'].mean()\n"
      ],
      "execution_count": 29,
      "outputs": [
        {
          "output_type": "execute_result",
          "data": {
            "text/plain": [
              "Name\n",
              "0    0.374699\n",
              "1    0.491525\n",
              "Name: Survived, dtype: float64"
            ]
          },
          "metadata": {},
          "execution_count": 29
        }
      ]
    },
    {
      "cell_type": "code",
      "metadata": {
        "id": "Y4E6pN6ycjSm"
      },
      "source": [
        ""
      ],
      "execution_count": 29,
      "outputs": []
    },
    {
      "cell_type": "markdown",
      "metadata": {
        "id": "KFZnFA0MtgJO"
      },
      "source": [
        "# 4. Pipeline"
      ]
    },
    {
      "cell_type": "code",
      "metadata": {
        "colab": {
          "base_uri": "https://localhost:8080/"
        },
        "id": "Jp9K4wQi5e5M",
        "outputId": "feb53a89-327e-45d2-b859-9751867e0ece"
      },
      "source": [
        "# Eliminate columns unrelated to prediction\n",
        "train_temp = train.drop(columns=['PassengerId', 'Ticket'], axis=1)\n",
        "\n",
        "# Get dummies\n",
        "train_temp = pd.get_dummies(train_temp, drop_first=False)\n",
        "\n",
        "# Scaling\n",
        "scaler = StandardScaler()\n",
        "\n",
        "# Normalizer\n",
        "normalizer = Normalizer()\n",
        "\n",
        "# RandomForest\n",
        "rf = RandomForestClassifier()\n",
        "\n",
        "# GridSearchCV\n",
        "param = {'n_estimators':[100], 'max_features':['sqrt', 'log2'], 'max_depth' : [6]}\n",
        "search = GridSearchCV(estimator = rf, param_grid = param,  n_jobs=-1, scoring='accuracy', cv=5)\n",
        "\n",
        "# Pipeline\n",
        "pipe = make_pipeline(scaler,  search)\n",
        "\n",
        "# Set X, y from train_temp\n",
        "X = train_temp.iloc[:, 1:]\n",
        "y = train_temp.iloc[:, 0]\n",
        "X_train, X_test, y_train, y_test = train_test_split(X, y, test_size=0.2, random_state = 21)\n",
        "\n",
        "# fit\n",
        "pipe.fit(X_train, y_train)\n",
        "\n",
        "# predict\n",
        "y_pred = pipe.predict(X_test)\n",
        "\n",
        "# Accuracy\n",
        "score = accuracy_score(y_test, y_pred)\n",
        "print(score)\n",
        "\n",
        "# Cross_val_score, see the average performence\n",
        "cross_score = cross_val_score(pipe, X_train, y_train, cv=3)\n",
        "\n",
        "print(cross_score.mean())"
      ],
      "execution_count": 30,
      "outputs": [
        {
          "output_type": "stream",
          "name": "stdout",
          "text": [
            "0.8202247191011236\n",
            "0.8157524613220817\n"
          ]
        }
      ]
    },
    {
      "cell_type": "markdown",
      "metadata": {
        "id": "XK1GqASnucmh"
      },
      "source": [
        "# 5. Submit"
      ]
    },
    {
      "cell_type": "markdown",
      "metadata": {
        "id": "eKtH-pEA-JmK"
      },
      "source": [
        "5-1 Test data preprocessing"
      ]
    },
    {
      "cell_type": "code",
      "metadata": {
        "id": "Cm5HZAtQ5vza"
      },
      "source": [
        "# (Pclass) to category\n",
        "test.Pclass = test.Pclass.astype('category')\n",
        "\n",
        "# (Embarked) Drop rows with NaN\n",
        "# test.dropna(subset=['Embarked'], inplace=True)\n",
        "\n",
        "# (Age) fill in sample mean\n",
        "def Age(cols):\n",
        "    Age=cols[0]\n",
        "    Pclass=cols[1]\n",
        "    if pd.isnull(Age):\n",
        "        if Pclass==1:\n",
        "            return 38.23\n",
        "        elif Pclass==2:\n",
        "            return 29.87\n",
        "        elif Pclass==3:\n",
        "            return 25.14\n",
        "    else:\n",
        "        return Age\n",
        "    \n",
        "\n",
        "test[\"Age\"]=test[[\"Age\",\"Pclass\"]].apply(Age,axis=1)\n",
        "\n",
        "\n",
        "\n",
        "# (Cabin) change into boolean\n",
        "test.Cabin = test.Cabin.isna()\n",
        "test.Cabin = test.Cabin.replace({True:1, False:0})\n",
        "\n",
        "# (Fare)\n",
        "test.Fare = test.Fare.fillna(test['Fare'].mean())\n",
        "\n",
        "# Name : Some people are rare\n",
        "test['Name'] = test['Name'].replace(['Rev', 'Don', 'Dr', 'Master'], 'Rare', regex=True)\n",
        "test.Name = test.Name.astype(str).str.contains('Rare')\n",
        "\n",
        "test.Name = test.Name.replace({True:1, False:0})"
      ],
      "execution_count": 31,
      "outputs": []
    },
    {
      "cell_type": "markdown",
      "metadata": {
        "id": "I8FDsjIQ-N83"
      },
      "source": [
        "5-2 Get the prediction"
      ]
    },
    {
      "cell_type": "code",
      "metadata": {
        "colab": {
          "base_uri": "https://localhost:8080/"
        },
        "id": "-3qquYUFZKdj",
        "outputId": "c3bf7ae1-2bfd-4f63-c266-05a297155e02"
      },
      "source": [
        "# Save the PassengerId, we'll use it in the submission\n",
        "test_id = test['PassengerId']\n",
        "\n",
        "# \n",
        "test_temp = test.drop(columns=['PassengerId', 'Ticket'], axis=1)\n",
        "\n",
        "test_temp = pd.get_dummies(test_temp)\n",
        "\n",
        "test_pred = pipe.predict(test_temp)\n",
        "\n",
        "print(type(test_pred))"
      ],
      "execution_count": 32,
      "outputs": [
        {
          "output_type": "stream",
          "name": "stdout",
          "text": [
            "<class 'numpy.ndarray'>\n"
          ]
        }
      ]
    },
    {
      "cell_type": "code",
      "metadata": {
        "colab": {
          "base_uri": "https://localhost:8080/"
        },
        "id": "92A73rKu5pDB",
        "outputId": "8dcbc061-9b22-4729-ce37-54bddeb852ad"
      },
      "source": [
        "# Combine 2 array to a df\n",
        "result = np.array([test_id, test_pred])\n",
        "\n",
        "# Transpose\n",
        "result = pd.DataFrame(result).T\n",
        "\n",
        "# Assign column names\n",
        "result.columns = ['PassengerId', 'Survived']\n",
        "print(result.head())\n",
        "\n",
        "# Save to disk\n",
        "result.to_csv('titanic_pred.csv', index=False)\n",
        "\n",
        "# Check after saving to disk\n",
        "test_csv = pd.read_csv('/content/titanic_pred.csv')\n",
        "print(test_csv)"
      ],
      "execution_count": 33,
      "outputs": [
        {
          "output_type": "stream",
          "name": "stdout",
          "text": [
            "   PassengerId  Survived\n",
            "0          892         0\n",
            "1          893         0\n",
            "2          894         0\n",
            "3          895         0\n",
            "4          896         1\n",
            "     PassengerId  Survived\n",
            "0            892         0\n",
            "1            893         0\n",
            "2            894         0\n",
            "3            895         0\n",
            "4            896         1\n",
            "..           ...       ...\n",
            "413         1305         0\n",
            "414         1306         1\n",
            "415         1307         0\n",
            "416         1308         0\n",
            "417         1309         1\n",
            "\n",
            "[418 rows x 2 columns]\n"
          ]
        }
      ]
    }
  ]
}
