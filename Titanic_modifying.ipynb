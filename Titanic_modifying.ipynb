{
  "nbformat": 4,
  "nbformat_minor": 0,
  "metadata": {
    "colab": {
      "name": "Titanic_modifying.ipynb",
      "provenance": [],
      "collapsed_sections": [
        "BoVrOrNpKiTR"
      ],
      "mount_file_id": "1h-89ztFGdg3cIV5JPCaScwSyLj6CuhJ6",
      "authorship_tag": "ABX9TyPqpjl0CtWi3PCkCFGCU01V",
      "include_colab_link": true
    },
    "kernelspec": {
      "name": "python3",
      "display_name": "Python 3"
    },
    "language_info": {
      "name": "python"
    }
  },
  "cells": [
    {
      "cell_type": "markdown",
      "metadata": {
        "id": "view-in-github",
        "colab_type": "text"
      },
      "source": [
        "<a href=\"https://colab.research.google.com/github/yogaliu-ds/Titanic/blob/main/Titanic_modifying.ipynb\" target=\"_parent\"><img src=\"https://colab.research.google.com/assets/colab-badge.svg\" alt=\"Open In Colab\"/></a>"
      ]
    },
    {
      "cell_type": "markdown",
      "metadata": {
        "id": "yoorlmkC3WOx"
      },
      "source": [
        "Titanic Competition\n"
      ]
    },
    {
      "cell_type": "markdown",
      "metadata": {
        "id": "TKCQzLE36TPq"
      },
      "source": [
        "# 1. Import module and data"
      ]
    },
    {
      "cell_type": "code",
      "metadata": {
        "id": "Z98P2eBX3PLV"
      },
      "source": [
        "import pandas as pd\n",
        "import numpy as np\n",
        "from sklearn.linear_model import LogisticRegression\n",
        "from sklearn.model_selection import train_test_split\n",
        "from sklearn.metrics import accuracy_score\n",
        "from sklearn.model_selection import cross_val_score\n",
        "from sklearn.preprocessing import StandardScaler, Normalizer\n",
        "from sklearn.pipeline import make_pipeline\n",
        "from sklearn.ensemble import RandomForestClassifier\n",
        "\n",
        "from sklearn.model_selection import GridSearchCV\n",
        "from sklearn.ensemble import BaggingClassifier\n",
        "\n",
        "\n",
        "import matplotlib.pyplot as plt\n",
        "import seaborn as sns \n",
        "\n",
        "\n",
        "train = pd.read_csv('/content/drive/MyDrive/Kaggle/Titanic/train.csv')\n",
        "test = pd.read_csv('/content/drive/MyDrive/Kaggle/Titanic/test.csv')"
      ],
      "execution_count": 122,
      "outputs": []
    },
    {
      "cell_type": "markdown",
      "metadata": {
        "id": "BoVrOrNpKiTR"
      },
      "source": [
        "# 2. Getting to know your data"
      ]
    },
    {
      "cell_type": "code",
      "metadata": {
        "id": "86YKDodoaaN6"
      },
      "source": [
        "# plot style prettier\n",
        "plt.style.use('seaborn')"
      ],
      "execution_count": 96,
      "outputs": []
    },
    {
      "cell_type": "code",
      "metadata": {
        "colab": {
          "base_uri": "https://localhost:8080/"
        },
        "id": "oHj6jzWnk9uX",
        "outputId": "9c0c72d9-521b-4424-8e7f-4c4aa57182e6"
      },
      "source": [
        "#  How many columns\n",
        "print(train.columns)"
      ],
      "execution_count": 97,
      "outputs": [
        {
          "output_type": "stream",
          "name": "stdout",
          "text": [
            "Index(['PassengerId', 'Survived', 'Pclass', 'Name', 'Sex', 'Age', 'SibSp',\n",
            "       'Parch', 'Ticket', 'Fare', 'Cabin', 'Embarked'],\n",
            "      dtype='object')\n"
          ]
        }
      ]
    },
    {
      "cell_type": "code",
      "metadata": {
        "id": "lQ8LHplYNwnA"
      },
      "source": [
        "# Drop unuseful columns\n",
        "df = train\n",
        "df = df.drop(columns=['PassengerId', 'Name'])"
      ],
      "execution_count": 98,
      "outputs": []
    },
    {
      "cell_type": "code",
      "metadata": {
        "colab": {
          "base_uri": "https://localhost:8080/"
        },
        "id": "SF49GuJuw7lC",
        "outputId": "5802f0b7-a45f-4be6-d8f3-84905e7736b0"
      },
      "source": [
        "# Let's see what is 'Ticket' \n",
        "print(len(df.Ticket.unique()))\n",
        "\n",
        "# 681 different value: Ticket doesn't matter, we drop it\n",
        "df = df.drop(columns = ['Ticket'])"
      ],
      "execution_count": 99,
      "outputs": [
        {
          "output_type": "stream",
          "name": "stdout",
          "text": [
            "681\n"
          ]
        }
      ]
    },
    {
      "cell_type": "code",
      "metadata": {
        "colab": {
          "base_uri": "https://localhost:8080/",
          "height": 361
        },
        "id": "aIFO8N-auFRW",
        "outputId": "2c4db214-4b8d-414d-e85a-c69dbd4db754"
      },
      "source": [
        "# Pcalss & Sex\n",
        "pclass_age = df.groupby('Pclass')['Sex'].value_counts()\n",
        "sns.countplot(data=df, x='Pclass', hue='Sex')\n",
        "plt.show()"
      ],
      "execution_count": 100,
      "outputs": [
        {
          "output_type": "display_data",
          "data": {
            "image/png": "[encoded data removed]",
            "text/plain": [
              "<Figure size 576x396 with 1 Axes>"
            ]
          },
          "metadata": {}
        }
      ]
    },
    {
      "cell_type": "code",
      "metadata": {
        "id": "V8zZK1guMqVF",
        "colab": {
          "base_uri": "https://localhost:8080/",
          "height": 361
        },
        "outputId": "5ca061ef-b57b-42dc-d726-152c85593765"
      },
      "source": [
        "# Survival rate\n",
        "sns.barplot(x='Pclass', y='Survived', data=df, hue='Sex')\n",
        "plt.show()"
      ],
      "execution_count": 101,
      "outputs": [
        {
          "output_type": "display_data",
          "data": {
            "image/png": "[encoded data removed]",
            "text/plain": [
              "<Figure size 576x396 with 1 Axes>"
            ]
          },
          "metadata": {}
        }
      ]
    },
    {
      "cell_type": "code",
      "metadata": {
        "colab": {
          "base_uri": "https://localhost:8080/",
          "height": 347
        },
        "id": "kx23fgqbY3Pm",
        "outputId": "889052d7-5f1a-4eb4-ab53-fb32177730dd"
      },
      "source": [
        "# Age\n",
        "plt.hist(df['Age'])\n",
        "plt.show()"
      ],
      "execution_count": 102,
      "outputs": [
        {
          "output_type": "display_data",
          "data": {
            "image/png": "[encoded data removed]",
            "text/plain": [
              "<Figure size 576x396 with 1 Axes>"
            ]
          },
          "metadata": {}
        }
      ]
    },
    {
      "cell_type": "code",
      "metadata": {
        "id": "eMPVgyBZpgho",
        "colab": {
          "base_uri": "https://localhost:8080/",
          "height": 379
        },
        "outputId": "e90a3db8-208c-466a-fce0-4f9992bca4e6"
      },
      "source": [
        "# Age & Survived\n",
        "sns.histplot(data=df, x='Age', y='Survived', binwidth=10)"
      ],
      "execution_count": 103,
      "outputs": [
        {
          "output_type": "execute_result",
          "data": {
            "text/plain": [
              "<matplotlib.axes._subplots.AxesSubplot at 0x7fb797168850>"
            ]
          },
          "metadata": {},
          "execution_count": 103
        },
        {
          "output_type": "display_data",
          "data": {
            "image/png": "[encoded data removed]",
            "text/plain": [
              "<Figure size 576x396 with 1 Axes>"
            ]
          },
          "metadata": {}
        }
      ]
    },
    {
      "cell_type": "code",
      "metadata": {
        "colab": {
          "base_uri": "https://localhost:8080/",
          "height": 345
        },
        "id": "LB4QkKqs-Txe",
        "outputId": "a5ab6405-dc55-4872-e138-91dff81515d1"
      },
      "source": [
        "# Embarked\n",
        "k = df.Embarked.value_counts()\n",
        "plt.pie(x=k, labels=k.index, explode=[0.1,0.1,0.1], autopct='%1.2f%%')\n",
        "plt.title('Embarked Ratio')\n",
        "plt.show()"
      ],
      "execution_count": 104,
      "outputs": [
        {
          "output_type": "display_data",
          "data": {
            "image/png": "[encoded data removed]",
            "text/plain": [
              "<Figure size 576x396 with 1 Axes>"
            ]
          },
          "metadata": {}
        }
      ]
    },
    {
      "cell_type": "code",
      "metadata": {
        "colab": {
          "base_uri": "https://localhost:8080/"
        },
        "id": "dVv8veG8MXNK",
        "outputId": "e89d21b5-470f-48fd-d3ab-4e4b6aecde9a"
      },
      "source": [
        "# Embarked and Pcalss\n",
        "k = df.groupby('Embarked')['Pclass'].value_counts()\n",
        "print(k)\n"
      ],
      "execution_count": 105,
      "outputs": [
        {
          "output_type": "stream",
          "name": "stdout",
          "text": [
            "Embarked  Pclass\n",
            "C         1          85\n",
            "          3          66\n",
            "          2          17\n",
            "Q         3          72\n",
            "          2           3\n",
            "          1           2\n",
            "S         3         353\n",
            "          2         164\n",
            "          1         127\n",
            "Name: Pclass, dtype: int64\n"
          ]
        }
      ]
    },
    {
      "cell_type": "code",
      "metadata": {
        "colab": {
          "base_uri": "https://localhost:8080/",
          "height": 351
        },
        "id": "6QsADWz5UO_e",
        "outputId": "34576bb5-5574-4641-c262-83122f49a41c"
      },
      "source": [
        "sns.heatmap(df.corr(), annot=True)\n",
        "plt.show()"
      ],
      "execution_count": 106,
      "outputs": [
        {
          "output_type": "display_data",
          "data": {
            "image/png": "[encoded data removed]",
            "text/plain": [
              "<Figure size 576x396 with 2 Axes>"
            ]
          },
          "metadata": {}
        }
      ]
    },
    {
      "cell_type": "code",
      "metadata": {
        "colab": {
          "base_uri": "https://localhost:8080/",
          "height": 347
        },
        "id": "jKRGbaDgYmQz",
        "outputId": "157ec92b-7332-4231-8c9c-ded6621b0011"
      },
      "source": [
        "# Fare\n",
        "plt.hist(df['Fare'])\n",
        "plt.show()"
      ],
      "execution_count": 107,
      "outputs": [
        {
          "output_type": "display_data",
          "data": {
            "image/png": "[encoded data removed]",
            "text/plain": [
              "<Figure size 576x396 with 1 Axes>"
            ]
          },
          "metadata": {}
        }
      ]
    },
    {
      "cell_type": "code",
      "metadata": {
        "colab": {
          "base_uri": "https://localhost:8080/"
        },
        "id": "rwH_Ge_FbVLB",
        "outputId": "fe97b4bd-9807-4e81-b965-e1e07171af61"
      },
      "source": [
        "# Cabin\n",
        "with_cabin = train[train['Cabin'].isna()==False]\n",
        "without_cabin = train[train['Cabin'].isna()==True]\n",
        "\n",
        "#find mean of each group\n",
        "with_cabin_mean = with_cabin['Survived'].mean()\n",
        "without_cabin_mean = without_cabin['Survived'].mean()\n",
        "\n",
        "print(with_cabin_mean)\n",
        "print(without_cabin_mean)\n"
      ],
      "execution_count": 109,
      "outputs": [
        {
          "output_type": "stream",
          "name": "stdout",
          "text": [
            "0.6666666666666666\n",
            "0.29985443959243085\n"
          ]
        }
      ]
    },
    {
      "cell_type": "markdown",
      "metadata": {
        "id": "A8S0tBIVmkAz"
      },
      "source": [
        "# 3. Data Preprocessing"
      ]
    },
    {
      "cell_type": "code",
      "metadata": {
        "id": "6MUuRXIDmfxQ"
      },
      "source": [
        "# (Pclass) to category\n",
        "train.Pclass = train.Pclass.astype('category')\n",
        "\n",
        "# (Embarked) Drop rows with NaN\n",
        "train.dropna(subset=['Embarked'], inplace=True)\n",
        "\n",
        "# (Age) fill in sample mean\n",
        "def Age(cols):\n",
        "    Age=cols[0]\n",
        "    Pclass=cols[1]\n",
        "    if pd.isnull(Age):\n",
        "        if Pclass==1:\n",
        "            return 38.23\n",
        "        elif Pclass==2:\n",
        "            return 29.87\n",
        "        elif Pclass==3:\n",
        "            return 25.14\n",
        "    else:\n",
        "        return Age\n",
        "    \n",
        "\n",
        "train[\"Age\"]=train[[\"Age\",\"Pclass\"]].apply(Age,axis=1)\n",
        "\n",
        "\n",
        "\n",
        "# (Cabin) change into boolean\n",
        "train.Cabin = train.Cabin.isna()\n",
        "train.Cabin = train.Cabin.replace({True:1, False:0})\n",
        "\n"
      ],
      "execution_count": 123,
      "outputs": []
    },
    {
      "cell_type": "markdown",
      "metadata": {
        "id": "KFZnFA0MtgJO"
      },
      "source": [
        "# 4. Pipeline"
      ]
    },
    {
      "cell_type": "code",
      "metadata": {
        "colab": {
          "base_uri": "https://localhost:8080/"
        },
        "id": "Jp9K4wQi5e5M",
        "outputId": "165787f1-c496-4156-bb7b-59c62f8a80fc"
      },
      "source": [
        "# Eliminate columns unrelated to prediction\n",
        "train_temp = train.drop(columns=['Name', 'PassengerId', 'Ticket'], axis=1)\n",
        "\n",
        "# Get dummies\n",
        "train_temp = pd.get_dummies(train_temp, drop_first=False)\n",
        "\n",
        "# Scaling\n",
        "scaler = StandardScaler()\n",
        "\n",
        "# Normalizer\n",
        "normalizer = Normalizer()\n",
        "\n",
        "# RandomForest\n",
        "rf = RandomForestClassifier()\n",
        "\n",
        "# GridSearchCV\n",
        "param = {'n_estimators':[100], 'max_features':['sqrt', 'log2'], 'max_depth' : [6, 7, 8, 9, 10]}\n",
        "search = GridSearchCV(estimator = rf, param_grid = param,  n_jobs=-1, scoring='accuracy', cv=5)\n",
        "\n",
        "# Pipeline\n",
        "pipe = make_pipeline(scaler,  search)\n",
        "\n",
        "# Set X, y from train_temp\n",
        "X = train_temp.iloc[:, 1:]\n",
        "y = train_temp.iloc[:, 0]\n",
        "X_train, X_test, y_train, y_test = train_test_split(X, y, test_size=0.2, random_state = 21)\n",
        "\n",
        "# fit\n",
        "pipe.fit(X_train, y_train)\n",
        "\n",
        "# predict\n",
        "y_pred = pipe.predict(X_test)\n",
        "\n",
        "# Accuracy\n",
        "score = accuracy_score(y_test, y_pred)\n",
        "print(score)\n",
        "\n",
        "# Cross_val_score, see the average performence\n",
        "cross_score = cross_val_score(pipe, X_train, y_train, cv=3)\n",
        "\n",
        "print(cross_score.mean())"
      ],
      "execution_count": 124,
      "outputs": [
        {
          "output_type": "stream",
          "name": "stdout",
          "text": [
            "0.8314606741573034\n",
            "0.7974683544303797\n"
          ]
        }
      ]
    },
    {
      "cell_type": "markdown",
      "metadata": {
        "id": "XK1GqASnucmh"
      },
      "source": [
        "# 5. Submit"
      ]
    },
    {
      "cell_type": "markdown",
      "metadata": {
        "id": "eKtH-pEA-JmK"
      },
      "source": [
        "5-1 Test data preprocessing"
      ]
    },
    {
      "cell_type": "code",
      "metadata": {
        "id": "Cm5HZAtQ5vza"
      },
      "source": [
        "# (Pclass) to category\n",
        "test.Pclass = test.Pclass.astype('category')\n",
        "\n",
        "# (Embarked) Drop rows with NaN\n",
        "# test.dropna(subset=['Embarked'], inplace=True)\n",
        "\n",
        "# (Age) fill in sample mean\n",
        "def Age(cols):\n",
        "    Age=cols[0]\n",
        "    Pclass=cols[1]\n",
        "    if pd.isnull(Age):\n",
        "        if Pclass==1:\n",
        "            return 38.23\n",
        "        elif Pclass==2:\n",
        "            return 29.87\n",
        "        elif Pclass==3:\n",
        "            return 25.14\n",
        "    else:\n",
        "        return Age\n",
        "    \n",
        "\n",
        "test[\"Age\"]=test[[\"Age\",\"Pclass\"]].apply(Age,axis=1)\n",
        "\n",
        "\n",
        "\n",
        "# (Cabin) change into boolean\n",
        "test.Cabin = test.Cabin.isna()\n",
        "test.Cabin = test.Cabin.replace({True:1, False:0})\n",
        "\n",
        "# (Fare)\n",
        "test.Fare = test.Fare.fillna(test['Fare'].mean())"
      ],
      "execution_count": 125,
      "outputs": []
    },
    {
      "cell_type": "markdown",
      "metadata": {
        "id": "I8FDsjIQ-N83"
      },
      "source": [
        "5-2 Get the prediction"
      ]
    },
    {
      "cell_type": "code",
      "metadata": {
        "colab": {
          "base_uri": "https://localhost:8080/"
        },
        "id": "-3qquYUFZKdj",
        "outputId": "85f565e5-6fe7-4e63-86e6-9a67fe1e16eb"
      },
      "source": [
        "# Save the PassengerId, we'll use it in the submission\n",
        "test_id = test['PassengerId']\n",
        "\n",
        "# \n",
        "test_temp = test.drop(columns=['Name', 'PassengerId', 'Ticket'], axis=1)\n",
        "\n",
        "test_temp = pd.get_dummies(test_temp)\n",
        "\n",
        "test_pred = pipe.predict(test_temp)\n",
        "\n",
        "print(type(test_pred))"
      ],
      "execution_count": 126,
      "outputs": [
        {
          "output_type": "stream",
          "name": "stdout",
          "text": [
            "<class 'numpy.ndarray'>\n"
          ]
        }
      ]
    },
    {
      "cell_type": "code",
      "metadata": {
        "colab": {
          "base_uri": "https://localhost:8080/"
        },
        "id": "92A73rKu5pDB",
        "outputId": "83f465e8-3b05-48da-ee04-7e5c0a15d406"
      },
      "source": [
        "# Combine 2 array to a df\n",
        "result = np.array([test_id, test_pred])\n",
        "\n",
        "# Transpose\n",
        "result = pd.DataFrame(result).T\n",
        "\n",
        "# Assign column names\n",
        "result.columns = ['PassengerId', 'Survived']\n",
        "print(result.head())\n",
        "\n",
        "# Save to disk\n",
        "result.to_csv('titanic_pred.csv', index=False)\n",
        "\n",
        "# Check after saving to disk\n",
        "test_csv = pd.read_csv('/content/titanic_pred.csv')\n",
        "print(test_csv)"
      ],
      "execution_count": 127,
      "outputs": [
        {
          "output_type": "stream",
          "name": "stdout",
          "text": [
            "   PassengerId  Survived\n",
            "0          892         0\n",
            "1          893         0\n",
            "2          894         0\n",
            "3          895         0\n",
            "4          896         1\n",
            "     PassengerId  Survived\n",
            "0            892         0\n",
            "1            893         0\n",
            "2            894         0\n",
            "3            895         0\n",
            "4            896         1\n",
            "..           ...       ...\n",
            "413         1305         0\n",
            "414         1306         1\n",
            "415         1307         0\n",
            "416         1308         0\n",
            "417         1309         1\n",
            "\n",
            "[418 rows x 2 columns]\n"
          ]
        }
      ]
    }
  ]
}