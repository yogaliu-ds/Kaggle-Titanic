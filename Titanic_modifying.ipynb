{
  "nbformat": 4,
  "nbformat_minor": 0,
  "metadata": {
    "colab": {
      "name": "Titanic_modifying.ipynb",
      "provenance": [],
      "collapsed_sections": [
        "BoVrOrNpKiTR"
      ],
      "mount_file_id": "1h-89ztFGdg3cIV5JPCaScwSyLj6CuhJ6",
      "authorship_tag": "ABX9TyN91VKzkCBnmO1GeBaBS+Dy",
      "include_colab_link": true
    },
    "kernelspec": {
      "name": "python3",
      "display_name": "Python 3"
    },
    "language_info": {
      "name": "python"
    }
  },
  "cells": [
    {
      "cell_type": "markdown",
      "metadata": {
        "id": "view-in-github",
        "colab_type": "text"
      },
      "source": [
        "<a href=\"https://colab.research.google.com/github/yogaliu-ds/Titanic/blob/main/Titanic_modifying.ipynb\" target=\"_parent\"><img src=\"https://colab.research.google.com/assets/colab-badge.svg\" alt=\"Open In Colab\"/></a>"
      ]
    },
    {
      "cell_type": "markdown",
      "metadata": {
        "id": "yoorlmkC3WOx"
      },
      "source": [
        "Titanic Competition\n"
      ]
    },
    {
      "cell_type": "markdown",
      "metadata": {
        "id": "TKCQzLE36TPq"
      },
      "source": [
        "# 1. Import module and data"
      ]
    },
    {
      "cell_type": "code",
      "metadata": {
        "id": "Z98P2eBX3PLV"
      },
      "source": [
        "import pandas as pd\n",
        "import numpy as np\n",
        "from sklearn.linear_model import LogisticRegression\n",
        "from sklearn.model_selection import train_test_split\n",
        "from sklearn.metrics import accuracy_score\n",
        "from sklearn.model_selection import cross_val_score\n",
        "from sklearn.preprocessing import StandardScaler, Normalizer\n",
        "from sklearn.pipeline import make_pipeline\n",
        "from sklearn.ensemble import RandomForestClassifier\n",
        "\n",
        "from sklearn.model_selection import GridSearchCV\n",
        "from sklearn.ensemble import BaggingClassifier\n",
        "\n",
        "\n",
        "import matplotlib.pyplot as plt\n",
        "import seaborn as sns \n",
        "\n",
        "\n",
        "train = pd.read_csv('/content/drive/MyDrive/Kaggle/Titanic/train.csv')\n",
        "test = pd.read_csv('/content/drive/MyDrive/Kaggle/Titanic/test.csv')"
      ],
      "execution_count": 59,
      "outputs": []
    },
    {
      "cell_type": "markdown",
      "metadata": {
        "id": "BoVrOrNpKiTR"
      },
      "source": [
        "# 2. Getting to know your data"
      ]
    },
    {
      "cell_type": "code",
      "metadata": {
        "colab": {
          "base_uri": "https://localhost:8080/"
        },
        "id": "oHj6jzWnk9uX",
        "outputId": "ac49ed19-b909-47b6-a95a-e5038ddca1a7"
      },
      "source": [
        "#  How many columns\n",
        "print(train.columns)"
      ],
      "execution_count": 2,
      "outputs": [
        {
          "output_type": "stream",
          "name": "stdout",
          "text": [
            "Index(['PassengerId', 'Survived', 'Pclass', 'Name', 'Sex', 'Age', 'SibSp',\n",
            "       'Parch', 'Ticket', 'Fare', 'Cabin', 'Embarked'],\n",
            "      dtype='object')\n"
          ]
        }
      ]
    },
    {
      "cell_type": "code",
      "metadata": {
        "id": "lQ8LHplYNwnA"
      },
      "source": [
        "# Drop unuseful columns\n",
        "df = train\n",
        "df = df.drop(columns=['PassengerId', 'Name'])"
      ],
      "execution_count": 3,
      "outputs": []
    },
    {
      "cell_type": "code",
      "metadata": {
        "colab": {
          "base_uri": "https://localhost:8080/"
        },
        "id": "SF49GuJuw7lC",
        "outputId": "581cdf4f-d8b9-48c4-c74c-b76735961185"
      },
      "source": [
        "# Let's see what is 'Ticket' \n",
        "print(len(df.Ticket.unique()))\n",
        "\n",
        "# 681 different value: Ticket doesn't matter, we drop it\n",
        "df = df.drop(columns = ['Ticket'])"
      ],
      "execution_count": 4,
      "outputs": [
        {
          "output_type": "stream",
          "name": "stdout",
          "text": [
            "681\n"
          ]
        }
      ]
    },
    {
      "cell_type": "code",
      "metadata": {
        "colab": {
          "base_uri": "https://localhost:8080/",
          "height": 279
        },
        "id": "aIFO8N-auFRW",
        "outputId": "17de3027-2f50-4c9f-9cef-0bdd73a7c62b"
      },
      "source": [
        "# Pcalss & Sex\n",
        "pclass_age = df.groupby('Pclass')['Sex'].value_counts()\n",
        "sns.countplot(data=df, x='Pclass', hue='Sex')\n",
        "plt.show()"
      ],
      "execution_count": 15,
      "outputs": [
        {
          "output_type": "display_data",
          "data": {
            "image/png": "[encoded data removed]",
            "text/plain": [
              "<Figure size 432x288 with 1 Axes>"
            ]
          },
          "metadata": {
            "needs_background": "light"
          }
        }
      ]
    },
    {
      "cell_type": "code",
      "metadata": {
        "id": "V8zZK1guMqVF",
        "colab": {
          "base_uri": "https://localhost:8080/",
          "height": 279
        },
        "outputId": "920e2806-24e6-4a23-fc70-177fd9442052"
      },
      "source": [
        "# Survival rate\n",
        "sns.barplot(x='Pclass', y='Survived', data=df, hue='Sex')\n",
        "plt.show()"
      ],
      "execution_count": 14,
      "outputs": [
        {
          "output_type": "display_data",
          "data": {
            "image/png": "[encoded data removed]",
            "text/plain": [
              "<Figure size 432x288 with 1 Axes>"
            ]
          },
          "metadata": {
            "needs_background": "light"
          }
        }
      ]
    },
    {
      "cell_type": "code",
      "metadata": {
        "id": "eMPVgyBZpgho",
        "colab": {
          "base_uri": "https://localhost:8080/",
          "height": 297
        },
        "outputId": "ab8fab8a-0a36-43c9-e781-46996f9a4e79"
      },
      "source": [
        "# Age\n",
        "sns.histplot(data=df, x='Age', y='Survived', binwidth=10)"
      ],
      "execution_count": 16,
      "outputs": [
        {
          "output_type": "execute_result",
          "data": {
            "text/plain": [
              "<matplotlib.axes._subplots.AxesSubplot at 0x7f9f7c03e350>"
            ]
          },
          "metadata": {},
          "execution_count": 16
        },
        {
          "output_type": "display_data",
          "data": {
            "image/png": "[encoded data removed]",
            "text/plain": [
              "<Figure size 432x288 with 1 Axes>"
            ]
          },
          "metadata": {
            "needs_background": "light"
          }
        }
      ]
    },
    {
      "cell_type": "code",
      "metadata": {
        "colab": {
          "base_uri": "https://localhost:8080/",
          "height": 264
        },
        "id": "LB4QkKqs-Txe",
        "outputId": "dad2cd40-81f1-4420-b009-4ce4b118fc13"
      },
      "source": [
        "# Embarked\n",
        "k = df.Embarked.value_counts()\n",
        "plt.pie(x=k, labels=k.index, explode=[0.1,0.1,0.1], autopct='%1.2f%%')\n",
        "plt.title('Embarked Ratio')\n",
        "plt.show()"
      ],
      "execution_count": 39,
      "outputs": [
        {
          "output_type": "display_data",
          "data": {
            "image/png": "[encoded data removed]",
            "text/plain": [
              "<Figure size 432x288 with 1 Axes>"
            ]
          },
          "metadata": {}
        }
      ]
    },
    {
      "cell_type": "code",
      "metadata": {
        "colab": {
          "base_uri": "https://localhost:8080/"
        },
        "id": "dVv8veG8MXNK",
        "outputId": "1508a92b-3cb0-4932-dafd-6cd06f2e7d2f"
      },
      "source": [
        "# Embarked and Pcalss\n",
        "k = df.groupby('Embarked')['Pclass'].value_counts()\n",
        "print(k)\n"
      ],
      "execution_count": 57,
      "outputs": [
        {
          "output_type": "stream",
          "name": "stdout",
          "text": [
            "Embarked  Pclass\n",
            "C         1          85\n",
            "          3          66\n",
            "          2          17\n",
            "Q         3          72\n",
            "          2           3\n",
            "          1           2\n",
            "S         3         353\n",
            "          2         164\n",
            "          1         127\n",
            "Name: Pclass, dtype: int64\n"
          ]
        }
      ]
    },
    {
      "cell_type": "code",
      "metadata": {
        "id": "6QsADWz5UO_e"
      },
      "source": [
        ""
      ],
      "execution_count": null,
      "outputs": []
    },
    {
      "cell_type": "markdown",
      "metadata": {
        "id": "A8S0tBIVmkAz"
      },
      "source": [
        "# 3. Data Preprocessing"
      ]
    },
    {
      "cell_type": "code",
      "metadata": {
        "id": "6MUuRXIDmfxQ"
      },
      "source": [
        "# (Pclass) to category\n",
        "train.Pclass = train.Pclass.astype('category')\n",
        "\n",
        "# (Embarked) Drop rows with NaN\n",
        "train.dropna(subset=['Embarked'], inplace=True)\n",
        "\n",
        "# (Age) fill in sample mean\n",
        "def Age(cols):\n",
        "    Age=cols[0]\n",
        "    Pclass=cols[1]\n",
        "    if pd.isnull(Age):\n",
        "        if Pclass==1:\n",
        "            return 38.23\n",
        "        elif Pclass==2:\n",
        "            return 29.87\n",
        "        elif Pclass==3:\n",
        "            return 25.14\n",
        "    else:\n",
        "        return Age\n",
        "    \n",
        "\n",
        "train[\"Age\"]=train[[\"Age\",\"Pclass\"]].apply(Age,axis=1)\n",
        "\n",
        "\n",
        "\n",
        "# (Cabin) change into boolean\n",
        "train.Cabin = train.Cabin.isna()\n",
        "train.Cabin = train.Cabin.replace({True:1, False:0})\n"
      ],
      "execution_count": 60,
      "outputs": []
    },
    {
      "cell_type": "markdown",
      "metadata": {
        "id": "KFZnFA0MtgJO"
      },
      "source": [
        "# 4. Pipeline"
      ]
    },
    {
      "cell_type": "code",
      "metadata": {
        "colab": {
          "base_uri": "https://localhost:8080/"
        },
        "id": "Jp9K4wQi5e5M",
        "outputId": "642eb0d4-839e-4795-9b51-a55e3570472a"
      },
      "source": [
        "# Eliminate columns unrelated to prediction\n",
        "train_temp = train.drop(columns=['Name', 'PassengerId', 'Ticket'], axis=1)\n",
        "\n",
        "# Get dummies\n",
        "train_temp = pd.get_dummies(train_temp, drop_first=False)\n",
        "\n",
        "# Scaling\n",
        "scaler = StandardScaler()\n",
        "\n",
        "# Normalizer\n",
        "normalizer = Normalizer()\n",
        "\n",
        "# RandomForest\n",
        "rf = RandomForestClassifier()\n",
        "\n",
        "# GridSearchCV\n",
        "param = {'n_estimators':[100], 'max_features':['sqrt', 'log2'], 'max_depth' : [6]}\n",
        "search = GridSearchCV(estimator = rf, param_grid = param,  n_jobs=-1, scoring='accuracy', cv=5)\n",
        "\n",
        "# Pipeline\n",
        "pipe = make_pipeline(scaler,  search)\n",
        "\n",
        "# Set X, y from train_temp\n",
        "X = train_temp.iloc[:, 1:]\n",
        "y = train_temp.iloc[:, 0]\n",
        "X_train, X_test, y_train, y_test = train_test_split(X, y, test_size=0.2, random_state = 21)\n",
        "\n",
        "# fit\n",
        "pipe.fit(X_train, y_train)\n",
        "\n",
        "# predict\n",
        "y_pred = pipe.predict(X_test)\n",
        "\n",
        "# Accuracy\n",
        "score = accuracy_score(y_test, y_pred)\n",
        "print(score)\n",
        "\n",
        "# Cross_val_score, see the average performence\n",
        "cross_score = cross_val_score(pipe, X_train, y_train, cv=3)\n",
        "\n",
        "print(cross_score.mean())"
      ],
      "execution_count": 61,
      "outputs": [
        {
          "output_type": "stream",
          "name": "stdout",
          "text": [
            "0.8258426966292135\n",
            "0.8030942334739803\n"
          ]
        }
      ]
    },
    {
      "cell_type": "code",
      "metadata": {
        "colab": {
          "base_uri": "https://localhost:8080/"
        },
        "id": "_-BVjmFRiVFA",
        "outputId": "bebff7fe-79c9-4f57-c734-98111db9b79e"
      },
      "source": [
        ""
      ],
      "execution_count": null,
      "outputs": [
        {
          "output_type": "stream",
          "name": "stdout",
          "text": [
            "<class 'list'>\n"
          ]
        }
      ]
    },
    {
      "cell_type": "markdown",
      "metadata": {
        "id": "XK1GqASnucmh"
      },
      "source": [
        "# 5. Submit"
      ]
    },
    {
      "cell_type": "markdown",
      "metadata": {
        "id": "eKtH-pEA-JmK"
      },
      "source": [
        "5-1 Test data preprocessing"
      ]
    },
    {
      "cell_type": "code",
      "metadata": {
        "id": "Cm5HZAtQ5vza"
      },
      "source": [
        "# (Pclass) to category\n",
        "test.Pclass = test.Pclass.astype('category')\n",
        "\n",
        "# (Embarked) Drop rows with NaN\n",
        "# test.dropna(subset=['Embarked'], inplace=True)\n",
        "\n",
        "# (Age) fill in sample mean\n",
        "def Age(cols):\n",
        "    Age=cols[0]\n",
        "    Pclass=cols[1]\n",
        "    if pd.isnull(Age):\n",
        "        if Pclass==1:\n",
        "            return 38.23\n",
        "        elif Pclass==2:\n",
        "            return 29.87\n",
        "        elif Pclass==3:\n",
        "            return 25.14\n",
        "    else:\n",
        "        return Age\n",
        "    \n",
        "\n",
        "test[\"Age\"]=test[[\"Age\",\"Pclass\"]].apply(Age,axis=1)\n",
        "\n",
        "\n",
        "\n",
        "# (Cabin) change into boolean\n",
        "test.Cabin = test.Cabin.isna()\n",
        "test.Cabin = test.Cabin.replace({True:1, False:0})\n",
        "\n",
        "# (Fare)\n",
        "test.Fare = test.Fare.fillna(test['Fare'].mean())"
      ],
      "execution_count": null,
      "outputs": []
    },
    {
      "cell_type": "markdown",
      "metadata": {
        "id": "I8FDsjIQ-N83"
      },
      "source": [
        "5-2 Get the prediction"
      ]
    },
    {
      "cell_type": "code",
      "metadata": {
        "colab": {
          "base_uri": "https://localhost:8080/"
        },
        "id": "-3qquYUFZKdj",
        "outputId": "cdf3c0b5-57bb-45a2-df2b-a56f87e90f4d"
      },
      "source": [
        "# Save the PassengerId, we'll use it in the submission\n",
        "test_id = test['PassengerId']\n",
        "\n",
        "# \n",
        "test_temp = test.drop(columns=['Name', 'PassengerId', 'Ticket'], axis=1)\n",
        "\n",
        "test_temp = pd.get_dummies(test_temp)\n",
        "\n",
        "test_pred = pipe.predict(test_temp)\n",
        "\n",
        "print(type(test_pred))"
      ],
      "execution_count": null,
      "outputs": [
        {
          "output_type": "stream",
          "name": "stdout",
          "text": [
            "<class 'numpy.ndarray'>\n"
          ]
        }
      ]
    },
    {
      "cell_type": "code",
      "metadata": {
        "colab": {
          "base_uri": "https://localhost:8080/"
        },
        "id": "92A73rKu5pDB",
        "outputId": "1dac4844-bb89-40a6-c325-de9b1f61f99b"
      },
      "source": [
        "# Combine 2 array to a df\n",
        "result = np.array([test_id, test_pred])\n",
        "\n",
        "# Transpose\n",
        "result = pd.DataFrame(result).T\n",
        "\n",
        "# Assign column names\n",
        "result.columns = ['PassengerId', 'Survived']\n",
        "print(result.head())\n",
        "\n",
        "# Save to disk\n",
        "result.to_csv('titanic_pred.csv', index=False)\n",
        "\n",
        "# Check after saving to disk\n",
        "test_csv = pd.read_csv('/content/titanic_pred.csv')\n",
        "print(test_csv)"
      ],
      "execution_count": null,
      "outputs": [
        {
          "output_type": "stream",
          "name": "stdout",
          "text": [
            "   PassengerId  Survived\n",
            "0          892         0\n",
            "1          893         1\n",
            "2          894         0\n",
            "3          895         0\n",
            "4          896         1\n",
            "     PassengerId  Survived\n",
            "0            892         0\n",
            "1            893         1\n",
            "2            894         0\n",
            "3            895         0\n",
            "4            896         1\n",
            "..           ...       ...\n",
            "413         1305         0\n",
            "414         1306         1\n",
            "415         1307         0\n",
            "416         1308         0\n",
            "417         1309         0\n",
            "\n",
            "[418 rows x 2 columns]\n"
          ]
        }
      ]
    }
  ]
}