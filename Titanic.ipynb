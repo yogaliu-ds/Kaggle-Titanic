{
  "nbformat": 4,
  "nbformat_minor": 0,
  "metadata": {
    "colab": {
      "name": "Titanic.ipynb",
      "provenance": [],
      "collapsed_sections": [
        "BoVrOrNpKiTR"
      ],
      "mount_file_id": "1h-89ztFGdg3cIV5JPCaScwSyLj6CuhJ6",
      "authorship_tag": "ABX9TyOJEsnK0Wr2h7C4VN5SiU/K",
      "include_colab_link": true
    },
    "kernelspec": {
      "name": "python3",
      "display_name": "Python 3"
    },
    "language_info": {
      "name": "python"
    }
  },
  "cells": [
    {
      "cell_type": "markdown",
      "metadata": {
        "id": "view-in-github",
        "colab_type": "text"
      },
      "source": [
        "<a href=\"https://colab.research.google.com/github/yogaliu-ds/Titanic/blob/main/Titanic.ipynb\" target=\"_parent\"><img src=\"https://colab.research.google.com/assets/colab-badge.svg\" alt=\"Open In Colab\"/></a>"
      ]
    },
    {
      "cell_type": "markdown",
      "metadata": {
        "id": "yoorlmkC3WOx"
      },
      "source": [
        "Titanic Competition\n"
      ]
    },
    {
      "cell_type": "markdown",
      "metadata": {
        "id": "BoVrOrNpKiTR"
      },
      "source": [
        "# 1. Getting to know featrues\n",
        "\n",
        "  Do they matter?"
      ]
    },
    {
      "cell_type": "markdown",
      "metadata": {
        "id": "v6l2W2dKB6sA"
      },
      "source": [
        "1-1 (NaN) Cabin"
      ]
    },
    {
      "cell_type": "code",
      "metadata": {
        "colab": {
          "base_uri": "https://localhost:8080/"
        },
        "id": "eH2QmJMJ66S3",
        "outputId": "ea310d70-bd72-41b7-854e-b3d12a10f76f"
      },
      "source": [
        "with_cabin = train[train['Cabin'].isna()==False]\n",
        "without_cabin = train[train['Cabin'].isna()==True]\n",
        "\n",
        "print(with_cabin)\n",
        "print(without_cabin)\n",
        "\n",
        "#find mean of each group\n",
        "with_cabin_mean = with_cabin['Survived'].mean()\n",
        "without_cabin_mean = without_cabin['Survived'].mean()\n",
        "\n",
        "print(with_cabin_mean)\n",
        "print(without_cabin_mean)\n",
        "\n",
        "# So Cabin does matter, But how much?"
      ],
      "execution_count": null,
      "outputs": [
        {
          "output_type": "stream",
          "name": "stdout",
          "text": [
            "     PassengerId  Survived  Pclass  ...     Fare        Cabin  Embarked\n",
            "1              2         1       1  ...  71.2833          C85         C\n",
            "3              4         1       1  ...  53.1000         C123         S\n",
            "6              7         0       1  ...  51.8625          E46         S\n",
            "10            11         1       3  ...  16.7000           G6         S\n",
            "11            12         1       1  ...  26.5500         C103         S\n",
            "..           ...       ...     ...  ...      ...          ...       ...\n",
            "871          872         1       1  ...  52.5542          D35         S\n",
            "872          873         0       1  ...   5.0000  B51 B53 B55         S\n",
            "879          880         1       1  ...  83.1583          C50         C\n",
            "887          888         1       1  ...  30.0000          B42         S\n",
            "889          890         1       1  ...  30.0000         C148         C\n",
            "\n",
            "[204 rows x 12 columns]\n",
            "     PassengerId  Survived  Pclass  ...     Fare Cabin  Embarked\n",
            "0              1         0       3  ...   7.2500   NaN         S\n",
            "2              3         1       3  ...   7.9250   NaN         S\n",
            "4              5         0       3  ...   8.0500   NaN         S\n",
            "5              6         0       3  ...   8.4583   NaN         Q\n",
            "7              8         0       3  ...  21.0750   NaN         S\n",
            "..           ...       ...     ...  ...      ...   ...       ...\n",
            "884          885         0       3  ...   7.0500   NaN         S\n",
            "885          886         0       3  ...  29.1250   NaN         Q\n",
            "886          887         0       2  ...  13.0000   NaN         S\n",
            "888          889         0       3  ...  23.4500   NaN         S\n",
            "890          891         0       3  ...   7.7500   NaN         Q\n",
            "\n",
            "[687 rows x 12 columns]\n",
            "0.6666666666666666\n",
            "0.29985443959243085\n"
          ]
        }
      ]
    },
    {
      "cell_type": "markdown",
      "metadata": {
        "id": "_gwDgQdbHM4F"
      },
      "source": [
        "1-2 (NaN) Age"
      ]
    },
    {
      "cell_type": "code",
      "metadata": {
        "colab": {
          "base_uri": "https://localhost:8080/"
        },
        "id": "-1cAqzs7G6rr",
        "outputId": "c8f9eb73-fcec-44e7-f514-113bbc77641d"
      },
      "source": [
        "with_age = train[train['Age'].isna()==False]\n",
        "without_age = train[train['Age'].isna()==True]\n",
        "\n",
        "with_age_mean = with_age['Survived'].mean()\n",
        "without_age_mean = train['Survived'].mean()\n",
        "\n",
        "print(with_age_mean)\n",
        "print(without_age_mean)\n",
        "\n",
        "# People with age does have higher survival rate, but the differnece is too little.\n",
        "# The difference is only 0.022.\n",
        "# It's too minor, so I'm not gonna take into consideration."
      ],
      "execution_count": null,
      "outputs": [
        {
          "output_type": "stream",
          "name": "stdout",
          "text": [
            "0.4061624649859944\n",
            "0.3838383838383838\n"
          ]
        }
      ]
    },
    {
      "cell_type": "markdown",
      "metadata": {
        "id": "XAg8P0pZb6zs"
      },
      "source": [
        "1-3 Name"
      ]
    },
    {
      "cell_type": "code",
      "metadata": {
        "id": "LDvE2H-zb-Su"
      },
      "source": [
        "# I don't know if Name matters or not\n",
        "# Because I don't know how to analyze it.\n",
        "# I do think about maybe the last name indicate the rich family or powerful family.\n",
        "# Or some kind of celebrity.\n",
        "\n",
        "# I will try finding a way to analyze it."
      ],
      "execution_count": null,
      "outputs": []
    },
    {
      "cell_type": "markdown",
      "metadata": {
        "id": "gxhcWTzJc_D9"
      },
      "source": [
        "1-4 Passenger ID"
      ]
    },
    {
      "cell_type": "code",
      "metadata": {
        "id": "Wb4ZxVdGdC-r"
      },
      "source": [
        "# I don't think it matters. Just lke Name."
      ],
      "execution_count": null,
      "outputs": []
    },
    {
      "cell_type": "markdown",
      "metadata": {
        "id": "z8mxi9ZgQ6dL"
      },
      "source": [
        "1-5 pclass"
      ]
    },
    {
      "cell_type": "code",
      "metadata": {
        "colab": {
          "base_uri": "https://localhost:8080/",
          "height": 569
        },
        "id": "qLmyBXfLQPxi",
        "outputId": "470d7474-f7dc-45e9-9d18-25f6f5279803"
      },
      "source": [
        "print(train['Pclass'])\n",
        "\n",
        "pclass = train.groupby('Pclass', as_index=False)['Survived'].mean()\n",
        "print(pclass)\n",
        "\n",
        "pclass.plot(x='Pclass', y='Survived' ,kind='bar')\n",
        "plt.show()\n",
        "\n",
        "# So pclass really matters"
      ],
      "execution_count": null,
      "outputs": [
        {
          "output_type": "stream",
          "name": "stdout",
          "text": [
            "0      3\n",
            "1      1\n",
            "2      3\n",
            "3      1\n",
            "4      3\n",
            "      ..\n",
            "886    2\n",
            "887    1\n",
            "888    3\n",
            "889    1\n",
            "890    3\n",
            "Name: Pclass, Length: 891, dtype: int64\n",
            "   Pclass  Survived\n",
            "0       1  0.629630\n",
            "1       2  0.472826\n",
            "2       3  0.242363\n"
          ]
        },
        {
          "output_type": "display_data",
          "data": {
            "image/png": "[encoded data removed]",
            "text/plain": [
              "<Figure size 432x288 with 1 Axes>"
            ]
          },
          "metadata": {
            "needs_background": "light"
          }
        }
      ]
    },
    {
      "cell_type": "markdown",
      "metadata": {
        "id": "7JGoDhufdf_4"
      },
      "source": [
        "1-6 Sex"
      ]
    },
    {
      "cell_type": "code",
      "metadata": {
        "colab": {
          "base_uri": "https://localhost:8080/",
          "height": 597
        },
        "id": "-zG6_z9-didS",
        "outputId": "e5fb008a-51fa-4367-c066-2690a596ed58"
      },
      "source": [
        "print(train['Sex'])\n",
        "\n",
        "sex = train.groupby('Sex', as_index=False)['Survived'].mean()\n",
        "print(sex)\n",
        "\n",
        "sex.plot(x='Sex', y='Survived', kind='bar')\n",
        "\n",
        "# Female is easier to survive, but we haven't consider 'collinearity' yet."
      ],
      "execution_count": null,
      "outputs": [
        {
          "output_type": "stream",
          "name": "stdout",
          "text": [
            "0        male\n",
            "1      female\n",
            "2      female\n",
            "3      female\n",
            "4        male\n",
            "        ...  \n",
            "886      male\n",
            "887    female\n",
            "888    female\n",
            "889      male\n",
            "890      male\n",
            "Name: Sex, Length: 891, dtype: object\n",
            "      Sex  Survived\n",
            "0  female  0.742038\n",
            "1    male  0.188908\n"
          ]
        },
        {
          "output_type": "execute_result",
          "data": {
            "text/plain": [
              "<matplotlib.axes._subplots.AxesSubplot at 0x7ff946271c10>"
            ]
          },
          "metadata": {},
          "execution_count": 20
        },
        {
          "output_type": "display_data",
          "data": {
            "image/png": "[encoded data removed]",
            "text/plain": [
              "<Figure size 432x288 with 1 Axes>"
            ]
          },
          "metadata": {
            "needs_background": "light"
          }
        }
      ]
    },
    {
      "cell_type": "markdown",
      "metadata": {
        "id": "fDjnaiy6fIwy"
      },
      "source": [
        "1-7 SibSp"
      ]
    },
    {
      "cell_type": "code",
      "metadata": {
        "colab": {
          "base_uri": "https://localhost:8080/",
          "height": 441
        },
        "id": "rK_EYGpXK1JJ",
        "outputId": "a242d3c8-2f28-4adb-e17b-2d037b9fc89e"
      },
      "source": [
        "print(train['SibSp'].sum())\n",
        "\n",
        "sibsp = train.groupby('SibSp', as_index=False)['Survived'].mean()\n",
        "print(sibsp)\n",
        "sibsp.plot(x='SibSp', y='Survived', kind='bar')\n",
        "plt.show()\n",
        "\n",
        "# This insteresting because I couldn't find a reason for it.\n",
        "# Looks like people with 1 or 2 siblings are most likely to survive. "
      ],
      "execution_count": null,
      "outputs": [
        {
          "output_type": "stream",
          "name": "stdout",
          "text": [
            "466\n",
            "   SibSp  Survived\n",
            "0      0  0.345395\n",
            "1      1  0.535885\n",
            "2      2  0.464286\n",
            "3      3  0.250000\n",
            "4      4  0.166667\n",
            "5      5  0.000000\n",
            "6      8  0.000000\n"
          ]
        },
        {
          "output_type": "display_data",
          "data": {
            "image/png": "[encoded data removed]",
            "text/plain": [
              "<Figure size 432x288 with 1 Axes>"
            ]
          },
          "metadata": {
            "needs_background": "light"
          }
        }
      ]
    },
    {
      "cell_type": "markdown",
      "metadata": {
        "id": "Jpgrnl95hulQ"
      },
      "source": [
        "1-8 Parch"
      ]
    },
    {
      "cell_type": "code",
      "metadata": {
        "colab": {
          "base_uri": "https://localhost:8080/",
          "height": 642
        },
        "id": "mXg5P0t8hwyZ",
        "outputId": "7d5819e6-72c7-4988-ca16-5689907848ec"
      },
      "source": [
        "print(train['Parch'])\n",
        "\n",
        "parch_count = train.groupby('Parch', as_index=False)['Parch'].count()\n",
        "print(parch_count)\n",
        "\n",
        "parch = train.groupby('Parch', as_index=False)['Survived'].mean()\n",
        "parch.plot(x='Parch', y='Survived', kind='bar')\n",
        "plt.show()\n",
        "\n",
        "# It seens like doesn't matter, you should be careful of the numbers.\n",
        "# It's wrong that 5 parch give them more survive rate, because the sample is too small."
      ],
      "execution_count": null,
      "outputs": [
        {
          "output_type": "stream",
          "name": "stdout",
          "text": [
            "0      0\n",
            "1      0\n",
            "2      0\n",
            "3      0\n",
            "4      0\n",
            "      ..\n",
            "886    0\n",
            "887    0\n",
            "888    2\n",
            "889    0\n",
            "890    0\n",
            "Name: Parch, Length: 891, dtype: int64\n",
            "   Parch\n",
            "0    678\n",
            "1    118\n",
            "2     80\n",
            "3      5\n",
            "4      4\n",
            "5      5\n",
            "6      1\n"
          ]
        },
        {
          "output_type": "display_data",
          "data": {
            "image/png": "[encoded data removed]",
            "text/plain": [
              "<Figure size 432x288 with 1 Axes>"
            ]
          },
          "metadata": {
            "needs_background": "light"
          }
        }
      ]
    },
    {
      "cell_type": "code",
      "metadata": {
        "id": "RO1yBG8q4exK"
      },
      "source": [
        "# See if Cabin Number matters\n",
        "# train_cabin = train.groupby('Cabin')['Survived'].mean()\n",
        "# print(train_cabin)"
      ],
      "execution_count": null,
      "outputs": []
    },
    {
      "cell_type": "markdown",
      "metadata": {
        "id": "TKCQzLE36TPq"
      },
      "source": [
        "# 2. Import module and data"
      ]
    },
    {
      "cell_type": "code",
      "metadata": {
        "id": "Z98P2eBX3PLV"
      },
      "source": [
        "\n",
        "import pandas as pd\n",
        "import numpy as np\n",
        "from sklearn.linear_model import LogisticRegression\n",
        "from sklearn.model_selection import train_test_split\n",
        "from sklearn.metrics import accuracy_score\n",
        "from sklearn.model_selection import cross_val_score\n",
        "from sklearn.preprocessing import StandardScaler\n",
        "\n",
        "\n",
        "import matplotlib.pyplot as plt\n",
        "import seaborn as sns \n",
        "\n",
        "\n",
        "train = pd.read_csv('/content/drive/MyDrive/Kaggle/Titanic/train.csv')\n",
        "test = pd.read_csv('/content/drive/MyDrive/Kaggle/Titanic/test.csv')\n",
        "gender_sub = pd.read_csv('/content/drive/MyDrive/Kaggle/Titanic/gender_submission.csv')\n"
      ],
      "execution_count": 54,
      "outputs": []
    },
    {
      "cell_type": "markdown",
      "metadata": {
        "id": "A8S0tBIVmkAz"
      },
      "source": [
        "# 3. Data Preprocessing"
      ]
    },
    {
      "cell_type": "code",
      "metadata": {
        "id": "6MUuRXIDmfxQ"
      },
      "source": [
        "# (Age) transform to numeric\n",
        "# pd.to_numeric(train.Age)\n",
        "\n",
        "# (Embarked) Drop rows with NaN\n",
        "train.dropna(subset=['Embarked'], inplace=True)\n",
        "\n",
        "# (Age) fill in sample mean\n",
        "train.Age.fillna(29.7, inplace=True)\n",
        "\n",
        "# (Cabin) change into boolean\n",
        "train.Cabin = train.Cabin.isna()\n",
        "train.Cabin = train.Cabin.replace({True:1, False:0})\n"
      ],
      "execution_count": 55,
      "outputs": []
    },
    {
      "cell_type": "code",
      "metadata": {
        "colab": {
          "base_uri": "https://localhost:8080/"
        },
        "id": "-19F0-qumPa5",
        "outputId": "72035231-f3e1-43db-b871-f29bc7db74ac"
      },
      "source": [
        "print(train.info())"
      ],
      "execution_count": null,
      "outputs": [
        {
          "output_type": "stream",
          "name": "stdout",
          "text": [
            "<class 'pandas.core.frame.DataFrame'>\n",
            "Int64Index: 889 entries, 0 to 890\n",
            "Data columns (total 12 columns):\n",
            " #   Column       Non-Null Count  Dtype  \n",
            "---  ------       --------------  -----  \n",
            " 0   PassengerId  889 non-null    int64  \n",
            " 1   Survived     889 non-null    int64  \n",
            " 2   Pclass       889 non-null    int64  \n",
            " 3   Name         889 non-null    object \n",
            " 4   Sex          889 non-null    object \n",
            " 5   Age          889 non-null    float64\n",
            " 6   SibSp        889 non-null    int64  \n",
            " 7   Parch        889 non-null    int64  \n",
            " 8   Ticket       889 non-null    object \n",
            " 9   Fare         889 non-null    float64\n",
            " 10  Cabin        889 non-null    int64  \n",
            " 11  Embarked     889 non-null    object \n",
            "dtypes: float64(2), int64(6), object(4)\n",
            "memory usage: 90.3+ KB\n",
            "None\n"
          ]
        }
      ]
    },
    {
      "cell_type": "markdown",
      "metadata": {
        "id": "KFZnFA0MtgJO"
      },
      "source": [
        "# 4. Logistic Regression"
      ]
    },
    {
      "cell_type": "code",
      "metadata": {
        "colab": {
          "base_uri": "https://localhost:8080/"
        },
        "id": "Jp9K4wQi5e5M",
        "outputId": "d0ad22ac-dec5-433b-d27f-46c316f7b1f2"
      },
      "source": [
        "# Change the order of columns\n",
        "train_temp = train.reindex(columns = ['Survived', 'Name', 'PassengerId', 'Ticket', 'Pclass', 'Sex', 'Age', 'SibSp',\n",
        "       'Parch', 'Fare', 'Cabin', 'Embarked'])\n",
        "train_temp = train.drop(columns=['Name', 'PassengerId', 'Ticket'], axis=1)\n",
        "\n",
        "# Get dummies\n",
        "train_temp = pd.get_dummies(train_temp)\n",
        "\n",
        "# Scaling\n",
        "scaler = StandardScaler()\n",
        "scaler.fit_transform(train_temp)\n",
        "\n",
        "\n",
        "X = train_temp.iloc[:, 1:]\n",
        "y = train_temp.iloc[:, 0]\n",
        "X_train, X_test, y_train, y_test = train_test_split(X, y, test_size=0.2, random_state = 21)\n",
        "logreg = LogisticRegression()\n",
        "cross_score = cross_val_score(logreg, X_train, y_train, cv=5)\n",
        "logreg.fit(X_train, y_train)\n",
        "print(cross_score.mean())\n",
        "\n",
        "y_pred = logreg.predict(X_test)\n",
        "\n",
        "score = accuracy_score(y_test, y_pred)\n",
        "\n"
      ],
      "execution_count": 60,
      "outputs": [
        {
          "output_type": "stream",
          "name": "stdout",
          "text": [
            "0.788998325618044\n"
          ]
        },
        {
          "output_type": "stream",
          "name": "stderr",
          "text": [
            "/usr/local/lib/python3.7/dist-packages/sklearn/linear_model/_logistic.py:940: ConvergenceWarning: lbfgs failed to converge (status=1):\n",
            "STOP: TOTAL NO. of ITERATIONS REACHED LIMIT.\n",
            "\n",
            "Increase the number of iterations (max_iter) or scale the data as shown in:\n",
            "    https://scikit-learn.org/stable/modules/preprocessing.html\n",
            "Please also refer to the documentation for alternative solver options:\n",
            "    https://scikit-learn.org/stable/modules/linear_model.html#logistic-regression\n",
            "  extra_warning_msg=_LOGISTIC_SOLVER_CONVERGENCE_MSG)\n",
            "/usr/local/lib/python3.7/dist-packages/sklearn/linear_model/_logistic.py:940: ConvergenceWarning: lbfgs failed to converge (status=1):\n",
            "STOP: TOTAL NO. of ITERATIONS REACHED LIMIT.\n",
            "\n",
            "Increase the number of iterations (max_iter) or scale the data as shown in:\n",
            "    https://scikit-learn.org/stable/modules/preprocessing.html\n",
            "Please also refer to the documentation for alternative solver options:\n",
            "    https://scikit-learn.org/stable/modules/linear_model.html#logistic-regression\n",
            "  extra_warning_msg=_LOGISTIC_SOLVER_CONVERGENCE_MSG)\n",
            "/usr/local/lib/python3.7/dist-packages/sklearn/linear_model/_logistic.py:940: ConvergenceWarning: lbfgs failed to converge (status=1):\n",
            "STOP: TOTAL NO. of ITERATIONS REACHED LIMIT.\n",
            "\n",
            "Increase the number of iterations (max_iter) or scale the data as shown in:\n",
            "    https://scikit-learn.org/stable/modules/preprocessing.html\n",
            "Please also refer to the documentation for alternative solver options:\n",
            "    https://scikit-learn.org/stable/modules/linear_model.html#logistic-regression\n",
            "  extra_warning_msg=_LOGISTIC_SOLVER_CONVERGENCE_MSG)\n",
            "/usr/local/lib/python3.7/dist-packages/sklearn/linear_model/_logistic.py:940: ConvergenceWarning: lbfgs failed to converge (status=1):\n",
            "STOP: TOTAL NO. of ITERATIONS REACHED LIMIT.\n",
            "\n",
            "Increase the number of iterations (max_iter) or scale the data as shown in:\n",
            "    https://scikit-learn.org/stable/modules/preprocessing.html\n",
            "Please also refer to the documentation for alternative solver options:\n",
            "    https://scikit-learn.org/stable/modules/linear_model.html#logistic-regression\n",
            "  extra_warning_msg=_LOGISTIC_SOLVER_CONVERGENCE_MSG)\n",
            "/usr/local/lib/python3.7/dist-packages/sklearn/linear_model/_logistic.py:940: ConvergenceWarning: lbfgs failed to converge (status=1):\n",
            "STOP: TOTAL NO. of ITERATIONS REACHED LIMIT.\n",
            "\n",
            "Increase the number of iterations (max_iter) or scale the data as shown in:\n",
            "    https://scikit-learn.org/stable/modules/preprocessing.html\n",
            "Please also refer to the documentation for alternative solver options:\n",
            "    https://scikit-learn.org/stable/modules/linear_model.html#logistic-regression\n",
            "  extra_warning_msg=_LOGISTIC_SOLVER_CONVERGENCE_MSG)\n",
            "/usr/local/lib/python3.7/dist-packages/sklearn/linear_model/_logistic.py:940: ConvergenceWarning: lbfgs failed to converge (status=1):\n",
            "STOP: TOTAL NO. of ITERATIONS REACHED LIMIT.\n",
            "\n",
            "Increase the number of iterations (max_iter) or scale the data as shown in:\n",
            "    https://scikit-learn.org/stable/modules/preprocessing.html\n",
            "Please also refer to the documentation for alternative solver options:\n",
            "    https://scikit-learn.org/stable/modules/linear_model.html#logistic-regression\n",
            "  extra_warning_msg=_LOGISTIC_SOLVER_CONVERGENCE_MSG)\n"
          ]
        }
      ]
    }
  ]
}